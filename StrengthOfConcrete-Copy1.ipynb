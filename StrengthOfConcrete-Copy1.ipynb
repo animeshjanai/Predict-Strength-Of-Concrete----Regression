{
 "cells": [
  {
   "cell_type": "markdown",
   "metadata": {},
   "source": [
    "# PREDICTION OF THE STRENGTH OF CONCRETE"
   ]
  },
  {
   "cell_type": "code",
   "execution_count": 1,
   "metadata": {},
   "outputs": [],
   "source": [
    "#crearing working directory\n",
    "import os\n",
    "os.chdir(\"E:\\Data Analytics\\Kaggle\")"
   ]
  },
  {
   "cell_type": "code",
   "execution_count": 2,
   "metadata": {},
   "outputs": [
    {
     "data": {
      "text/plain": [
       "'E:\\\\Data Analytics\\\\Kaggle'"
      ]
     },
     "execution_count": 2,
     "metadata": {},
     "output_type": "execute_result"
    }
   ],
   "source": [
    "os.getcwd()"
   ]
  },
  {
   "cell_type": "code",
   "execution_count": 3,
   "metadata": {},
   "outputs": [],
   "source": [
    "#import important libraries\n",
    "import pandas as pd\n",
    "import numpy as np\n",
    "import matplotlib.pyplot as plt\n",
    "import seaborn as sns\n",
    "import warnings\n",
    "warnings.filterwarnings(\"ignore\")"
   ]
  },
  {
   "cell_type": "code",
   "execution_count": 4,
   "metadata": {},
   "outputs": [],
   "source": [
    "#load the data\n",
    "data = pd.read_csv(\"Concrete_Data.csv\")"
   ]
  },
  {
   "cell_type": "code",
   "execution_count": 5,
   "metadata": {},
   "outputs": [
    {
     "data": {
      "text/html": [
       "<div>\n",
       "<style scoped>\n",
       "    .dataframe tbody tr th:only-of-type {\n",
       "        vertical-align: middle;\n",
       "    }\n",
       "\n",
       "    .dataframe tbody tr th {\n",
       "        vertical-align: top;\n",
       "    }\n",
       "\n",
       "    .dataframe thead th {\n",
       "        text-align: right;\n",
       "    }\n",
       "</style>\n",
       "<table border=\"1\" class=\"dataframe\">\n",
       "  <thead>\n",
       "    <tr style=\"text-align: right;\">\n",
       "      <th></th>\n",
       "      <th>cement</th>\n",
       "      <th>slag</th>\n",
       "      <th>flyash</th>\n",
       "      <th>water</th>\n",
       "      <th>superplasticizer</th>\n",
       "      <th>coarseaggregate</th>\n",
       "      <th>fineaggregate</th>\n",
       "      <th>age</th>\n",
       "      <th>csMPa</th>\n",
       "    </tr>\n",
       "  </thead>\n",
       "  <tbody>\n",
       "    <tr>\n",
       "      <th>0</th>\n",
       "      <td>540.0</td>\n",
       "      <td>0.0</td>\n",
       "      <td>0.0</td>\n",
       "      <td>162.0</td>\n",
       "      <td>2.5</td>\n",
       "      <td>1040.0</td>\n",
       "      <td>676.0</td>\n",
       "      <td>28</td>\n",
       "      <td>79.99</td>\n",
       "    </tr>\n",
       "    <tr>\n",
       "      <th>1</th>\n",
       "      <td>540.0</td>\n",
       "      <td>0.0</td>\n",
       "      <td>0.0</td>\n",
       "      <td>162.0</td>\n",
       "      <td>2.5</td>\n",
       "      <td>1055.0</td>\n",
       "      <td>676.0</td>\n",
       "      <td>28</td>\n",
       "      <td>61.89</td>\n",
       "    </tr>\n",
       "    <tr>\n",
       "      <th>2</th>\n",
       "      <td>332.5</td>\n",
       "      <td>142.5</td>\n",
       "      <td>0.0</td>\n",
       "      <td>228.0</td>\n",
       "      <td>0.0</td>\n",
       "      <td>932.0</td>\n",
       "      <td>594.0</td>\n",
       "      <td>270</td>\n",
       "      <td>40.27</td>\n",
       "    </tr>\n",
       "    <tr>\n",
       "      <th>3</th>\n",
       "      <td>332.5</td>\n",
       "      <td>142.5</td>\n",
       "      <td>0.0</td>\n",
       "      <td>228.0</td>\n",
       "      <td>0.0</td>\n",
       "      <td>932.0</td>\n",
       "      <td>594.0</td>\n",
       "      <td>365</td>\n",
       "      <td>41.05</td>\n",
       "    </tr>\n",
       "    <tr>\n",
       "      <th>4</th>\n",
       "      <td>198.6</td>\n",
       "      <td>132.4</td>\n",
       "      <td>0.0</td>\n",
       "      <td>192.0</td>\n",
       "      <td>0.0</td>\n",
       "      <td>978.4</td>\n",
       "      <td>825.5</td>\n",
       "      <td>360</td>\n",
       "      <td>44.30</td>\n",
       "    </tr>\n",
       "  </tbody>\n",
       "</table>\n",
       "</div>"
      ],
      "text/plain": [
       "   cement   slag  flyash  water  superplasticizer  coarseaggregate  \\\n",
       "0   540.0    0.0     0.0  162.0               2.5           1040.0   \n",
       "1   540.0    0.0     0.0  162.0               2.5           1055.0   \n",
       "2   332.5  142.5     0.0  228.0               0.0            932.0   \n",
       "3   332.5  142.5     0.0  228.0               0.0            932.0   \n",
       "4   198.6  132.4     0.0  192.0               0.0            978.4   \n",
       "\n",
       "   fineaggregate  age  csMPa  \n",
       "0          676.0   28  79.99  \n",
       "1          676.0   28  61.89  \n",
       "2          594.0  270  40.27  \n",
       "3          594.0  365  41.05  \n",
       "4          825.5  360  44.30  "
      ]
     },
     "execution_count": 5,
     "metadata": {},
     "output_type": "execute_result"
    }
   ],
   "source": [
    "data.head()"
   ]
  },
  {
   "cell_type": "code",
   "execution_count": 6,
   "metadata": {},
   "outputs": [
    {
     "data": {
      "text/plain": [
       "(1030, 9)"
      ]
     },
     "execution_count": 6,
     "metadata": {},
     "output_type": "execute_result"
    }
   ],
   "source": [
    "data.shape"
   ]
  },
  {
   "cell_type": "markdown",
   "metadata": {},
   "source": [
    "#### this dataset contains 9 columns (or features) and 1030 observation\n",
    "#### \"csMPa\" is dependent feature and other 8 are independent features"
   ]
  },
  {
   "cell_type": "code",
   "execution_count": 7,
   "metadata": {},
   "outputs": [
    {
     "name": "stdout",
     "output_type": "stream",
     "text": [
      "<class 'pandas.core.frame.DataFrame'>\n",
      "RangeIndex: 1030 entries, 0 to 1029\n",
      "Data columns (total 9 columns):\n",
      "cement              1030 non-null float64\n",
      "slag                1030 non-null float64\n",
      "flyash              1030 non-null float64\n",
      "water               1030 non-null float64\n",
      "superplasticizer    1030 non-null float64\n",
      "coarseaggregate     1030 non-null float64\n",
      "fineaggregate       1030 non-null float64\n",
      "age                 1030 non-null int64\n",
      "csMPa               1030 non-null float64\n",
      "dtypes: float64(8), int64(1)\n",
      "memory usage: 72.5 KB\n"
     ]
    }
   ],
   "source": [
    "data.info()"
   ]
  },
  {
   "cell_type": "code",
   "execution_count": 8,
   "metadata": {},
   "outputs": [
    {
     "data": {
      "text/plain": [
       "cement              0\n",
       "slag                0\n",
       "flyash              0\n",
       "water               0\n",
       "superplasticizer    0\n",
       "coarseaggregate     0\n",
       "fineaggregate       0\n",
       "age                 0\n",
       "csMPa               0\n",
       "dtype: int64"
      ]
     },
     "execution_count": 8,
     "metadata": {},
     "output_type": "execute_result"
    }
   ],
   "source": [
    "#Checking missing values\n",
    "data.isnull().sum()"
   ]
  },
  {
   "cell_type": "markdown",
   "metadata": {},
   "source": [
    "#### Out of 9 variable Data type of 8 variable is float and 1 is integer.\n",
    "#### this dataset does not contains any missing values as all of features contains 1030 entries (as number of observation is also 1030). As the dataset contains only 9 featues we can easily found out ."
   ]
  },
  {
   "cell_type": "markdown",
   "metadata": {},
   "source": [
    "#### let's discuss about all the features.. Little bit of knowledge about features will help in analyzing the data more properly..\n",
    "1. \"cement\" : is quantitative feature.It is a component of Concrete. Observations in this feature implies quantity of Cement\n",
    "2. \"slag\" : is quantitative feature.It is also a cement kind of thing.It is a component of Concrete.Observations in this feature implies its quantity.\n",
    "3. \"flyash\" : is quantitative feature.It is a component of Concrete. Observations in this feature implies its quantity.\n",
    "4. \"water\" : is quantitative feature.It is a component of Concrete. Observations in this feature implies its quantity.\n",
    "5. \"superplasticizer\" : is quantitative feature.It is a component of Concrete used to make high strength concrete.Observations in this feature implies its quantity.\n",
    "6. \"coarseaggregate\" :  is quantitative feature.It is a component of Concrete.also known as Stone chips of certain measures.Observations in this feature implies its quantity.\n",
    "7. \"fineaggregate\" : is quantitative feature.It is a component of Concrete. Known as Sand.Observations in this feature implies its quantity.\n",
    "8. \"age\" : is quantitative feature. Age of the concrete define by this.\n",
    "9. \"csMPa\" : is quantitative feature.It is the measure of strength of concrete."
   ]
  },
  {
   "cell_type": "markdown",
   "metadata": {},
   "source": [
    "## Outlier Checking\n",
    "#### at a time one feature"
   ]
  },
  {
   "cell_type": "code",
   "execution_count": 9,
   "metadata": {},
   "outputs": [
    {
     "data": {
      "text/plain": [
       "<matplotlib.axes._subplots.AxesSubplot at 0x1c71149f1d0>"
      ]
     },
     "execution_count": 9,
     "metadata": {},
     "output_type": "execute_result"
    },
    {
     "data": {
      "image/png": "[encoded data removed]",
      "text/plain": [
       "<Figure size 432x288 with 1 Axes>"
      ]
     },
     "metadata": {
      "needs_background": "light"
     },
     "output_type": "display_data"
    }
   ],
   "source": [
    "sns.boxplot(data[\"cement\"])"
   ]
  },
  {
   "cell_type": "code",
   "execution_count": 10,
   "metadata": {},
   "outputs": [
    {
     "data": {
      "text/plain": [
       "<matplotlib.axes._subplots.AxesSubplot at 0x1c7127c66a0>"
      ]
     },
     "execution_count": 10,
     "metadata": {},
     "output_type": "execute_result"
    },
    {
     "data": {
      "image/png": "[encoded data removed]",
      "text/plain": [
       "<Figure size 432x288 with 1 Axes>"
      ]
     },
     "metadata": {
      "needs_background": "light"
     },
     "output_type": "display_data"
    }
   ],
   "source": [
    "sns.boxplot(data[\"slag\"])"
   ]
  },
  {
   "cell_type": "code",
   "execution_count": 11,
   "metadata": {},
   "outputs": [
    {
     "data": {
      "text/plain": [
       "<matplotlib.axes._subplots.AxesSubplot at 0x1c712853860>"
      ]
     },
     "execution_count": 11,
     "metadata": {},
     "output_type": "execute_result"
    },
    {
     "data": {
      "image/png": "[encoded data removed]",
      "text/plain": [
       "<Figure size 432x288 with 1 Axes>"
      ]
     },
     "metadata": {
      "needs_background": "light"
     },
     "output_type": "display_data"
    }
   ],
   "source": [
    "sns.boxplot(data[\"flyash\"])"
   ]
  },
  {
   "cell_type": "code",
   "execution_count": 12,
   "metadata": {},
   "outputs": [
    {
     "data": {
      "text/plain": [
       "566"
      ]
     },
     "execution_count": 12,
     "metadata": {},
     "output_type": "execute_result"
    }
   ],
   "source": [
    "data2 = data[data.flyash == 0]\n",
    "data2.shape[0]"
   ]
  },
  {
   "cell_type": "markdown",
   "metadata": {},
   "source": [
    "so the column \"flyash\" has zero values in 566 observation out of total 1030 . So, lets remove it"
   ]
  },
  {
   "cell_type": "code",
   "execution_count": 13,
   "metadata": {},
   "outputs": [],
   "source": [
    "data.drop(columns = [\"flyash\"] , inplace = True)"
   ]
  },
  {
   "cell_type": "code",
   "execution_count": 14,
   "metadata": {},
   "outputs": [
    {
     "data": {
      "text/plain": [
       "<matplotlib.axes._subplots.AxesSubplot at 0x1c7128c5908>"
      ]
     },
     "execution_count": 14,
     "metadata": {},
     "output_type": "execute_result"
    },
    {
     "data": {
      "image/png": "[encoded data removed]",
      "text/plain": [
       "<Figure size 432x288 with 1 Axes>"
      ]
     },
     "metadata": {
      "needs_background": "light"
     },
     "output_type": "display_data"
    }
   ],
   "source": [
    "sns.boxplot(data[\"water\"])"
   ]
  },
  {
   "cell_type": "code",
   "execution_count": 15,
   "metadata": {},
   "outputs": [
    {
     "name": "stdout",
     "output_type": "stream",
     "text": [
      "Maximum value in the feature water: 247.0\n",
      "Minimum value in the feature water: 121.8\n"
     ]
    }
   ],
   "source": [
    "print(\"Maximum value in the feature water:\" ,data[\"water\"].max())\n",
    "print(\"Minimum value in the feature water:\" ,data[\"water\"].min())"
   ]
  },
  {
   "cell_type": "markdown",
   "metadata": {},
   "source": [
    "#### So it look like these outliers are not an issue"
   ]
  },
  {
   "cell_type": "code",
   "execution_count": 16,
   "metadata": {},
   "outputs": [
    {
     "data": {
      "text/plain": [
       "<matplotlib.axes._subplots.AxesSubplot at 0x1c712924978>"
      ]
     },
     "execution_count": 16,
     "metadata": {},
     "output_type": "execute_result"
    },
    {
     "data": {
      "image/png": "[encoded data removed]",
      "text/plain": [
       "<Figure size 432x288 with 1 Axes>"
      ]
     },
     "metadata": {
      "needs_background": "light"
     },
     "output_type": "display_data"
    }
   ],
   "source": [
    "sns.boxplot(data[\"superplasticizer\"])"
   ]
  },
  {
   "cell_type": "code",
   "execution_count": 17,
   "metadata": {},
   "outputs": [
    {
     "name": "stdout",
     "output_type": "stream",
     "text": [
      "Mean: 6.204660194174757\n",
      "Max: 32.2\n",
      "quantile(95% , 97.5% , 99% respectively): 0.950    16.055\n",
      "0.975    18.655\n",
      "0.990    23.400\n",
      "Name: superplasticizer, dtype: float64\n"
     ]
    }
   ],
   "source": [
    "print(\"Mean:\" , data[\"superplasticizer\"].mean())\n",
    "print(\"Max:\" , data[\"superplasticizer\"].max())\n",
    "print(\"quantile(95% , 97.5% , 99% respectively):\" , data[\"superplasticizer\"].quantile([0.95,0.975,0.99]))"
   ]
  },
  {
   "cell_type": "markdown",
   "metadata": {},
   "source": [
    "Lets remove this feature as its make a bad effect in our model"
   ]
  },
  {
   "cell_type": "code",
   "execution_count": 18,
   "metadata": {},
   "outputs": [
    {
     "name": "stdout",
     "output_type": "stream",
     "text": [
      "Number of observation with values greater than 99% quartile: 10\n"
     ]
    }
   ],
   "source": [
    "data2 = data[data.superplasticizer > 23.4]\n",
    "print(\"Number of observation with values greater than 99% quartile:\" , data2.shape[0])"
   ]
  },
  {
   "cell_type": "markdown",
   "metadata": {},
   "source": [
    "#### So we remove this 1.54% data from \"superplasticizer\" column"
   ]
  },
  {
   "cell_type": "code",
   "execution_count": 19,
   "metadata": {},
   "outputs": [
    {
     "data": {
      "text/plain": [
       "(1020, 8)"
      ]
     },
     "execution_count": 19,
     "metadata": {},
     "output_type": "execute_result"
    }
   ],
   "source": [
    "data = data[data.superplasticizer <= 23.4]\n",
    "data.shape"
   ]
  },
  {
   "cell_type": "code",
   "execution_count": 20,
   "metadata": {},
   "outputs": [
    {
     "data": {
      "text/plain": [
       "<matplotlib.axes._subplots.AxesSubplot at 0x1c712990ef0>"
      ]
     },
     "execution_count": 20,
     "metadata": {},
     "output_type": "execute_result"
    },
    {
     "data": {
      "image/png": "[encoded data removed]",
      "text/plain": [
       "<Figure size 432x288 with 1 Axes>"
      ]
     },
     "metadata": {
      "needs_background": "light"
     },
     "output_type": "display_data"
    }
   ],
   "source": [
    "# Now check outlier\n",
    "sns.boxplot(data[\"superplasticizer\"])"
   ]
  },
  {
   "cell_type": "markdown",
   "metadata": {},
   "source": [
    "#### So we remove the outlier from the feature \"superplasticizer\""
   ]
  },
  {
   "cell_type": "code",
   "execution_count": 21,
   "metadata": {},
   "outputs": [
    {
     "data": {
      "text/plain": [
       "<matplotlib.axes._subplots.AxesSubplot at 0x1c7129cceb8>"
      ]
     },
     "execution_count": 21,
     "metadata": {},
     "output_type": "execute_result"
    },
    {
     "data": {
      "image/png": "[encoded data removed]",
      "text/plain": [
       "<Figure size 432x288 with 1 Axes>"
      ]
     },
     "metadata": {
      "needs_background": "light"
     },
     "output_type": "display_data"
    }
   ],
   "source": [
    "sns.boxplot(data[\"coarseaggregate\"])"
   ]
  },
  {
   "cell_type": "code",
   "execution_count": 22,
   "metadata": {},
   "outputs": [
    {
     "data": {
      "text/plain": [
       "<matplotlib.axes._subplots.AxesSubplot at 0x1c712a4e2b0>"
      ]
     },
     "execution_count": 22,
     "metadata": {},
     "output_type": "execute_result"
    },
    {
     "data": {
      "image/png": "[encoded data removed]",
      "text/plain": [
       "<Figure size 432x288 with 1 Axes>"
      ]
     },
     "metadata": {
      "needs_background": "light"
     },
     "output_type": "display_data"
    }
   ],
   "source": [
    "sns.boxplot(data[\"fineaggregate\"])"
   ]
  },
  {
   "cell_type": "code",
   "execution_count": 23,
   "metadata": {},
   "outputs": [
    {
     "data": {
      "text/plain": [
       "166    992.6\n",
       "97     992.6\n",
       "120    992.6\n",
       "74     992.6\n",
       "143    992.6\n",
       "551    945.0\n",
       "542    945.0\n",
       "543    945.0\n",
       "545    945.0\n",
       "714    943.1\n",
       "Name: fineaggregate, dtype: float64"
      ]
     },
     "execution_count": 23,
     "metadata": {},
     "output_type": "execute_result"
    }
   ],
   "source": [
    "data[\"fineaggregate\"].sort_values(ascending = False).head(10)"
   ]
  },
  {
   "cell_type": "markdown",
   "metadata": {},
   "source": [
    "#### So it looks like this outlier is not an issue"
   ]
  },
  {
   "cell_type": "code",
   "execution_count": 24,
   "metadata": {},
   "outputs": [
    {
     "data": {
      "text/plain": [
       "<matplotlib.axes._subplots.AxesSubplot at 0x1c712ac46d8>"
      ]
     },
     "execution_count": 24,
     "metadata": {},
     "output_type": "execute_result"
    },
    {
     "data": {
      "image/png": "[encoded data removed]",
      "text/plain": [
       "<Figure size 432x288 with 1 Axes>"
      ]
     },
     "metadata": {
      "needs_background": "light"
     },
     "output_type": "display_data"
    }
   ],
   "source": [
    "sns.boxplot(data[\"age\"])"
   ]
  },
  {
   "cell_type": "code",
   "execution_count": 25,
   "metadata": {},
   "outputs": [
    {
     "data": {
      "text/plain": [
       "30     365\n",
       "31     365\n",
       "622    365\n",
       "3      365\n",
       "24     365\n",
       "620    365\n",
       "6      365\n",
       "34     365\n",
       "41     365\n",
       "610    365\n",
       "Name: age, dtype: int64"
      ]
     },
     "execution_count": 25,
     "metadata": {},
     "output_type": "execute_result"
    }
   ],
   "source": [
    "data[\"age\"].sort_values(ascending = False).head(10)"
   ]
  },
  {
   "cell_type": "code",
   "execution_count": 26,
   "metadata": {},
   "outputs": [],
   "source": [
    "df = data[data.age <= 165 ]"
   ]
  },
  {
   "cell_type": "code",
   "execution_count": 27,
   "metadata": {},
   "outputs": [
    {
     "name": "stdout",
     "output_type": "stream",
     "text": [
      "in order to remove outlier we remove 5.784313725490196 % data from our original dataset\n"
     ]
    }
   ],
   "source": [
    "print(f\"in order to remove outlier we remove {((len(data)-len(df))/len(data))*100} % data from our original dataset\")"
   ]
  },
  {
   "cell_type": "code",
   "execution_count": 28,
   "metadata": {},
   "outputs": [
    {
     "name": "stdout",
     "output_type": "stream",
     "text": [
      "Now the dataset contains 961 nos observation\n"
     ]
    }
   ],
   "source": [
    "print(f\"Now the dataset contains {df.shape[0]} nos observation\")"
   ]
  },
  {
   "cell_type": "code",
   "execution_count": 29,
   "metadata": {},
   "outputs": [
    {
     "data": {
      "text/plain": [
       "<matplotlib.axes._subplots.AxesSubplot at 0x1c712b1df28>"
      ]
     },
     "execution_count": 29,
     "metadata": {},
     "output_type": "execute_result"
    },
    {
     "data": {
      "image/png": "[encoded data removed]",
      "text/plain": [
       "<Figure size 432x288 with 1 Axes>"
      ]
     },
     "metadata": {
      "needs_background": "light"
     },
     "output_type": "display_data"
    }
   ],
   "source": [
    "sns.boxplot(df[\"age\"])"
   ]
  },
  {
   "cell_type": "markdown",
   "metadata": {},
   "source": [
    "#### it contains few more outlier but let's not remove more rows as it may effect our model"
   ]
  },
  {
   "cell_type": "code",
   "execution_count": 30,
   "metadata": {},
   "outputs": [
    {
     "data": {
      "text/plain": [
       "<matplotlib.axes._subplots.AxesSubplot at 0x1c712b99cf8>"
      ]
     },
     "execution_count": 30,
     "metadata": {},
     "output_type": "execute_result"
    },
    {
     "data": {
      "image/png": "[encoded data removed]",
      "text/plain": [
       "<Figure size 432x288 with 1 Axes>"
      ]
     },
     "metadata": {
      "needs_background": "light"
     },
     "output_type": "display_data"
    }
   ],
   "source": [
    "#checking outlier of dependent variable\n",
    "sns.boxplot(df[\"csMPa\"])"
   ]
  },
  {
   "cell_type": "code",
   "execution_count": 31,
   "metadata": {},
   "outputs": [
    {
     "data": {
      "text/html": [
       "<div>\n",
       "<style scoped>\n",
       "    .dataframe tbody tr th:only-of-type {\n",
       "        vertical-align: middle;\n",
       "    }\n",
       "\n",
       "    .dataframe tbody tr th {\n",
       "        vertical-align: top;\n",
       "    }\n",
       "\n",
       "    .dataframe thead th {\n",
       "        text-align: right;\n",
       "    }\n",
       "</style>\n",
       "<table border=\"1\" class=\"dataframe\">\n",
       "  <thead>\n",
       "    <tr style=\"text-align: right;\">\n",
       "      <th></th>\n",
       "      <th>cement</th>\n",
       "      <th>slag</th>\n",
       "      <th>water</th>\n",
       "      <th>superplasticizer</th>\n",
       "      <th>coarseaggregate</th>\n",
       "      <th>fineaggregate</th>\n",
       "      <th>age</th>\n",
       "      <th>csMPa</th>\n",
       "    </tr>\n",
       "  </thead>\n",
       "  <tbody>\n",
       "    <tr>\n",
       "      <th>0</th>\n",
       "      <td>540.0</td>\n",
       "      <td>0.0</td>\n",
       "      <td>162.0</td>\n",
       "      <td>2.5</td>\n",
       "      <td>1040.0</td>\n",
       "      <td>676.0</td>\n",
       "      <td>28</td>\n",
       "      <td>79.99</td>\n",
       "    </tr>\n",
       "    <tr>\n",
       "      <th>1</th>\n",
       "      <td>540.0</td>\n",
       "      <td>0.0</td>\n",
       "      <td>162.0</td>\n",
       "      <td>2.5</td>\n",
       "      <td>1055.0</td>\n",
       "      <td>676.0</td>\n",
       "      <td>28</td>\n",
       "      <td>61.89</td>\n",
       "    </tr>\n",
       "    <tr>\n",
       "      <th>5</th>\n",
       "      <td>266.0</td>\n",
       "      <td>114.0</td>\n",
       "      <td>228.0</td>\n",
       "      <td>0.0</td>\n",
       "      <td>932.0</td>\n",
       "      <td>670.0</td>\n",
       "      <td>90</td>\n",
       "      <td>47.03</td>\n",
       "    </tr>\n",
       "    <tr>\n",
       "      <th>7</th>\n",
       "      <td>380.0</td>\n",
       "      <td>95.0</td>\n",
       "      <td>228.0</td>\n",
       "      <td>0.0</td>\n",
       "      <td>932.0</td>\n",
       "      <td>594.0</td>\n",
       "      <td>28</td>\n",
       "      <td>36.45</td>\n",
       "    </tr>\n",
       "    <tr>\n",
       "      <th>8</th>\n",
       "      <td>266.0</td>\n",
       "      <td>114.0</td>\n",
       "      <td>228.0</td>\n",
       "      <td>0.0</td>\n",
       "      <td>932.0</td>\n",
       "      <td>670.0</td>\n",
       "      <td>28</td>\n",
       "      <td>45.85</td>\n",
       "    </tr>\n",
       "  </tbody>\n",
       "</table>\n",
       "</div>"
      ],
      "text/plain": [
       "   cement   slag  water  superplasticizer  coarseaggregate  fineaggregate  \\\n",
       "0   540.0    0.0  162.0               2.5           1040.0          676.0   \n",
       "1   540.0    0.0  162.0               2.5           1055.0          676.0   \n",
       "5   266.0  114.0  228.0               0.0            932.0          670.0   \n",
       "7   380.0   95.0  228.0               0.0            932.0          594.0   \n",
       "8   266.0  114.0  228.0               0.0            932.0          670.0   \n",
       "\n",
       "   age  csMPa  \n",
       "0   28  79.99  \n",
       "1   28  61.89  \n",
       "5   90  47.03  \n",
       "7   28  36.45  \n",
       "8   28  45.85  "
      ]
     },
     "execution_count": 31,
     "metadata": {},
     "output_type": "execute_result"
    }
   ],
   "source": [
    "df.head()"
   ]
  },
  {
   "cell_type": "code",
   "execution_count": 32,
   "metadata": {},
   "outputs": [
    {
     "data": {
      "text/plain": [
       "(961, 8)"
      ]
     },
     "execution_count": 32,
     "metadata": {},
     "output_type": "execute_result"
    }
   ],
   "source": [
    "df.shape"
   ]
  },
  {
   "cell_type": "code",
   "execution_count": 33,
   "metadata": {},
   "outputs": [
    {
     "data": {
      "text/plain": [
       "<matplotlib.axes._subplots.AxesSubplot at 0x1c712bf6be0>"
      ]
     },
     "execution_count": 33,
     "metadata": {},
     "output_type": "execute_result"
    },
    {
     "data": {
      "image/png": "[encoded data removed]",
      "text/plain": [
       "<Figure size 1080x576 with 1 Axes>"
      ]
     },
     "metadata": {
      "needs_background": "light"
     },
     "output_type": "display_data"
    }
   ],
   "source": [
    "plt.figure(figsize=(15,8))\n",
    "sns.boxplot(data=df)"
   ]
  },
  {
   "cell_type": "markdown",
   "metadata": {},
   "source": [
    "### Multicollinearity"
   ]
  },
  {
   "cell_type": "code",
   "execution_count": 34,
   "metadata": {},
   "outputs": [
    {
     "data": {
      "text/plain": [
       "<matplotlib.axes._subplots.AxesSubplot at 0x1c712f723c8>"
      ]
     },
     "execution_count": 34,
     "metadata": {},
     "output_type": "execute_result"
    },
    {
     "data": {
      "image/png": "[encoded data removed]",
      "text/plain": [
       "<Figure size 1152x864 with 2 Axes>"
      ]
     },
     "metadata": {
      "needs_background": "light"
     },
     "output_type": "display_data"
    }
   ],
   "source": [
    "fig,ax = plt.subplots(figsize = (16,12))\n",
    "corrMat = df.corr()\n",
    "sns.heatmap(corrMat)"
   ]
  },
  {
   "cell_type": "markdown",
   "metadata": {},
   "source": [
    "From the above correlation heatmap it is clear that no features are highly correlated to each other"
   ]
  },
  {
   "cell_type": "markdown",
   "metadata": {},
   "source": [
    "## Splitting the dataset into the Training set and Test set"
   ]
  },
  {
   "cell_type": "code",
   "execution_count": 35,
   "metadata": {},
   "outputs": [],
   "source": [
    "#dependent variable\n",
    "y = df.iloc[: , -1].values"
   ]
  },
  {
   "cell_type": "code",
   "execution_count": 36,
   "metadata": {},
   "outputs": [],
   "source": [
    "#independent variables\n",
    "x = df.iloc[:,:-1].values"
   ]
  },
  {
   "cell_type": "code",
   "execution_count": 37,
   "metadata": {},
   "outputs": [],
   "source": [
    "from sklearn.model_selection import train_test_split\n",
    "x_train, x_test, y_train, y_test = train_test_split(x, y, test_size = 0.35, random_state = 14)"
   ]
  },
  {
   "cell_type": "code",
   "execution_count": 38,
   "metadata": {},
   "outputs": [],
   "source": [
    "y_val = y_test"
   ]
  },
  {
   "cell_type": "markdown",
   "metadata": {},
   "source": [
    "## Feature Scaling"
   ]
  },
  {
   "cell_type": "code",
   "execution_count": 39,
   "metadata": {},
   "outputs": [],
   "source": [
    "from sklearn.preprocessing import StandardScaler\n",
    "sc = StandardScaler()\n",
    "x_train = sc.fit_transform(x_train)\n",
    "x_test = sc.transform(x_test)"
   ]
  },
  {
   "cell_type": "code",
   "execution_count": 40,
   "metadata": {},
   "outputs": [],
   "source": [
    "#Converting 1D array to 2D array\n",
    "y_train = y_train.reshape(len(y_train) , 1)\n",
    "y_test= y_test.reshape(len(y_test) , 1)"
   ]
  },
  {
   "cell_type": "code",
   "execution_count": 41,
   "metadata": {},
   "outputs": [],
   "source": [
    "#from sklearn.preprocessing import StandardScaler\n",
    "scaler = StandardScaler()\n",
    "y_train = scaler.fit_transform(y_train)\n",
    "y_test = scaler.transform(y_test)"
   ]
  },
  {
   "cell_type": "code",
   "execution_count": 42,
   "metadata": {},
   "outputs": [
    {
     "data": {
      "text/plain": [
       "<matplotlib.axes._subplots.AxesSubplot at 0x1c713169940>"
      ]
     },
     "execution_count": 42,
     "metadata": {},
     "output_type": "execute_result"
    },
    {
     "data": {
      "image/png": "[encoded data removed]",
      "text/plain": [
       "<Figure size 1080x576 with 1 Axes>"
      ]
     },
     "metadata": {
      "needs_background": "light"
     },
     "output_type": "display_data"
    }
   ],
   "source": [
    "plt.figure(figsize=(15,8))\n",
    "sns.boxplot(data=x_train)"
   ]
  },
  {
   "cell_type": "markdown",
   "metadata": {},
   "source": [
    "# Modeling Part"
   ]
  },
  {
   "cell_type": "markdown",
   "metadata": {},
   "source": [
    "## Linear Regression"
   ]
  },
  {
   "cell_type": "code",
   "execution_count": 43,
   "metadata": {},
   "outputs": [
    {
     "data": {
      "text/plain": [
       "LinearRegression(copy_X=True, fit_intercept=True, n_jobs=None, normalize=False)"
      ]
     },
     "execution_count": 43,
     "metadata": {},
     "output_type": "execute_result"
    }
   ],
   "source": [
    "from sklearn.linear_model import LinearRegression\n",
    "regressor = LinearRegression()\n",
    "regressor.fit(x_train, y_train)"
   ]
  },
  {
   "cell_type": "code",
   "execution_count": 44,
   "metadata": {},
   "outputs": [],
   "source": [
    "from sklearn.metrics import mean_squared_error, r2_score"
   ]
  },
  {
   "cell_type": "code",
   "execution_count": 45,
   "metadata": {},
   "outputs": [],
   "source": [
    "y_pred = regressor.predict(x_test)"
   ]
  },
  {
   "cell_type": "code",
   "execution_count": 46,
   "metadata": {},
   "outputs": [
    {
     "name": "stdout",
     "output_type": "stream",
     "text": [
      "Coefficients: \n",
      " [[ 0.46758313  0.20875028 -0.38084155  0.11000674 -0.16864612 -0.19576853\n",
      "   0.52711063]]\n"
     ]
    }
   ],
   "source": [
    "print(\"Coefficients: \\n\", regressor.coef_)"
   ]
  },
  {
   "cell_type": "code",
   "execution_count": 47,
   "metadata": {},
   "outputs": [
    {
     "name": "stdout",
     "output_type": "stream",
     "text": [
      "Mean squared error: 0.24\n"
     ]
    }
   ],
   "source": [
    "print(\"Mean squared error: %.2f\" % mean_squared_error(y_test, y_pred))"
   ]
  },
  {
   "cell_type": "code",
   "execution_count": 48,
   "metadata": {},
   "outputs": [
    {
     "name": "stdout",
     "output_type": "stream",
     "text": [
      "Coefficient of determination: 0.76\n"
     ]
    }
   ],
   "source": [
    "print(\"Coefficient of determination: %.2f\" % r2_score(y_test,y_pred))"
   ]
  },
  {
   "cell_type": "code",
   "execution_count": 49,
   "metadata": {},
   "outputs": [],
   "source": [
    "#as the data is scaled.so we get back the data in it's original form\n",
    "y_pred_output = scaler.inverse_transform(regressor.predict(x_test))"
   ]
  },
  {
   "cell_type": "code",
   "execution_count": 50,
   "metadata": {
    "scrolled": true
   },
   "outputs": [
    {
     "name": "stdout",
     "output_type": "stream",
     "text": [
      "[[54.55 44.52]\n",
      " [69.22 64.9 ]\n",
      " [32.99 37.17]\n",
      " [34.63 30.65]\n",
      " [33.72 32.96]\n",
      " [25.7  22.95]\n",
      " [28.33 26.14]\n",
      " [77.92 65.2 ]\n",
      " [51.09 33.4 ]\n",
      " [35.89 24.44]\n",
      " [27.53 37.4 ]\n",
      " [26.55 30.28]\n",
      " [48.29 47.71]\n",
      " [40.24 49.77]\n",
      " [14.31 12.18]\n",
      " [53.95 60.28]\n",
      " [56.44 38.22]\n",
      " [76.08 73.3 ]\n",
      " [18.92 10.73]\n",
      " [39.42 39.66]\n",
      " [37.31 36.94]\n",
      " [26.03 32.9 ]\n",
      " [40.95 40.87]\n",
      " [25.69 23.52]\n",
      " [22.91 26.26]\n",
      " [26.79 32.72]\n",
      " [58.34 40.6 ]\n",
      " [49.63 38.02]\n",
      " [50.03 56.06]\n",
      " [35.86 36.94]\n",
      " [17.76  9.74]\n",
      " [32.94 35.57]\n",
      " [26.32 33.66]\n",
      " [42.64 44.13]\n",
      " [34.58 41.68]\n",
      " [27.05 31.45]\n",
      " [41.4  42.03]\n",
      " [31.7  29.23]\n",
      " [25.12 17.57]\n",
      " [56.8  74.99]\n",
      " [40.13 53.52]\n",
      " [28.48 33.73]\n",
      " [35.84 29.98]\n",
      " [64.57 61.07]\n",
      " [48.14 32.85]\n",
      " [18.58 15.58]\n",
      " [27.6  27.66]\n",
      " [26.25 29.55]\n",
      " [39.06 48.99]\n",
      " [29.57 23.84]\n",
      " [24.32 23.25]\n",
      " [44.22 44.14]\n",
      " [29.79 21.78]\n",
      " [28.16 31.12]\n",
      " [20.65 16.26]\n",
      " [ 8.93  8.37]\n",
      " [27.41 26.86]\n",
      " [30.25 34.29]\n",
      " [41.74 41.67]\n",
      " [53.96 51.02]\n",
      " [35.84 43.7 ]\n",
      " [10.31 10.09]\n",
      " [44.22 52.82]\n",
      " [42.08 39.7 ]\n",
      " [29.52 31.87]\n",
      " [ 8.16  9.85]\n",
      " [41.94 51.43]\n",
      " [21.76 30.39]\n",
      " [26.77 26.06]\n",
      " [33.77 33.31]\n",
      " [49.24 39.3 ]\n",
      " [39.68 36.59]\n",
      " [29.44 34.67]\n",
      " [62.63 77.3 ]\n",
      " [33.08 37.17]\n",
      " [42.54 45.9 ]\n",
      " [23.81 14.54]\n",
      " [18.73 28.24]\n",
      " [43.77 41.05]\n",
      " [10.64 11.17]\n",
      " [57.64 45.37]\n",
      " [59.41 55.2 ]\n",
      " [37.98 32.1 ]\n",
      " [18.13 17.54]\n",
      " [46.47 35.3 ]\n",
      " [26.83 31.64]\n",
      " [21.61 30.96]\n",
      " [54.09 71.3 ]\n",
      " [19.93  9.01]\n",
      " [25.61 25.18]\n",
      " [64.57 56.14]\n",
      " [11.73 12.05]\n",
      " [56.74 59.89]\n",
      " [29.13 33.7 ]\n",
      " [27.9  30.57]\n",
      " [41.29 46.64]\n",
      " [40.82 40.87]\n",
      " [23.31 21.16]\n",
      " [47.35 32.11]\n",
      " [59.56 59.09]\n",
      " [11.22 14.4 ]\n",
      " [18.21 14.99]\n",
      " [31.58 39.84]\n",
      " [57.48 47.97]\n",
      " [50.23 47.82]\n",
      " [30.73 41.89]\n",
      " [47.25 61.23]\n",
      " [22.67 15.52]\n",
      " [38.93 39.45]\n",
      " [19.12 17.44]\n",
      " [42.59 29.55]\n",
      " [49.77 55.6 ]\n",
      " [40.92 51.26]\n",
      " [85.17 82.6 ]\n",
      " [64.06 54.32]\n",
      " [58.77 57.23]\n",
      " [67.12 54.9 ]\n",
      " [34.77 36.45]\n",
      " [18.04 12.18]\n",
      " [47.97 48.67]\n",
      " [32.29 28.99]\n",
      " [33.83 44.61]\n",
      " [36.17 39.06]\n",
      " [72.68 68.1 ]\n",
      " [26.12 28.47]\n",
      " [48.15 46.68]\n",
      " [40.   53.52]\n",
      " [23.92 15.52]\n",
      " [15.68 10.54]\n",
      " [20.51 29.89]\n",
      " [51.09 33.4 ]\n",
      " [42.82 44.39]\n",
      " [20.42 13.2 ]\n",
      " [16.17 24.29]\n",
      " [17.01 22.32]\n",
      " [30.27 26.23]\n",
      " [17.89 21.26]\n",
      " [77.8  56.5 ]\n",
      " [47.69 55.9 ]\n",
      " [32.6  32.05]\n",
      " [24.76 15.61]\n",
      " [22.61 36.44]\n",
      " [74.5  79.4 ]\n",
      " [52.25 56.81]\n",
      " [24.75 47.81]\n",
      " [45.82 41.64]\n",
      " [32.95 33.02]\n",
      " [ 7.71  4.78]\n",
      " [45.23 43.38]\n",
      " [28.11 17.95]\n",
      " [16.33 20.08]\n",
      " [31.98  7.75]\n",
      " [61.51 41.37]\n",
      " [24.4  27.77]\n",
      " [32.2  25.1 ]\n",
      " [23.96 30.23]\n",
      " [51.09 33.4 ]\n",
      " [33.56 33.3 ]\n",
      " [44.43 37.91]\n",
      " [57.67 61.89]\n",
      " [19.69 25.69]\n",
      " [17.9  14.31]\n",
      " [26.94 15.57]\n",
      " [40.99 36.35]\n",
      " [21.28 24.54]\n",
      " [38.83 39.46]\n",
      " [22.29 26.77]\n",
      " [62.   66.1 ]\n",
      " [36.   38.63]\n",
      " [49.63 52.01]\n",
      " [28.97 19.77]\n",
      " [29.64 24.13]\n",
      " [21.93 37.27]\n",
      " [27.49 26.86]\n",
      " [20.48 13.29]\n",
      " [16.99 17.17]\n",
      " [18.67 24.99]\n",
      " [35.54 37.43]\n",
      " [31.89 27.94]\n",
      " [31.77 44.86]\n",
      " [23.82 22.63]\n",
      " [44.83 42.8 ]\n",
      " [12.69 10.22]\n",
      " [63.68 54.28]\n",
      " [35.67 27.68]\n",
      " [35.93 33.08]\n",
      " [19.07 12.46]\n",
      " [43.53 51.04]\n",
      " [59.25 72.99]\n",
      " [19.21 13.54]\n",
      " [15.47  6.81]\n",
      " [39.17 37.26]\n",
      " [23.02 13.52]\n",
      " [61.55 41.37]\n",
      " [35.89 51.33]\n",
      " [72.34 69.66]\n",
      " [22.98 19.35]\n",
      " [42.29 43.25]\n",
      " [48.31 46.23]\n",
      " [16.66 14.6 ]\n",
      " [33.4  45.94]\n",
      " [22.25 27.22]\n",
      " [29.82 15.42]\n",
      " [26.36 26.05]\n",
      " [53.46 55.5 ]\n",
      " [23.39 30.44]\n",
      " [32.23 33.4 ]\n",
      " [51.6  62.05]\n",
      " [30.02 15.42]\n",
      " [18.15 12.54]\n",
      " [11.77 11.58]\n",
      " [14.63  8.49]\n",
      " [34.24 26.32]\n",
      " [69.93 76.8 ]\n",
      " [65.4  71.7 ]\n",
      " [36.35 31.35]\n",
      " [49.01 47.28]\n",
      " [27.36 19.2 ]\n",
      " [61.97 63.4 ]\n",
      " [50.96 28.6 ]\n",
      " [34.49 47.13]\n",
      " [57.27 54.6 ]\n",
      " [25.53 19.01]\n",
      " [24.98 26.85]\n",
      " [56.87 66.  ]\n",
      " [15.31 12.45]\n",
      " [47.06 33.4 ]\n",
      " [25.96 40.23]\n",
      " [30.67 29.73]\n",
      " [29.72 31.84]\n",
      " [36.27 48.59]\n",
      " [49.92 71.99]\n",
      " [34.54 37.42]\n",
      " [49.49 47.74]\n",
      " [21.51 17.6 ]\n",
      " [23.1  33.  ]\n",
      " [30.04 31.65]\n",
      " [28.11 29.59]\n",
      " [46.57 52.91]\n",
      " [16.3  14.5 ]\n",
      " [19.39 24.89]\n",
      " [33.85 33.8 ]\n",
      " [28.6  28.68]\n",
      " [47.53 55.45]\n",
      " [59.77 64.9 ]\n",
      " [14.94 12.47]\n",
      " [56.95 55.64]\n",
      " [26.2  17.24]\n",
      " [15.42 25.48]\n",
      " [11.45  6.94]\n",
      " [37.41 50.6 ]\n",
      " [23.44 15.69]\n",
      " [42.68 36.84]\n",
      " [29.52 25.45]\n",
      " [43.09 24.4 ]\n",
      " [47.43 61.99]\n",
      " [39.47 33.8 ]\n",
      " [15.77 11.41]\n",
      " [40.77 44.28]\n",
      " [60.68 61.8 ]\n",
      " [41.65 33.54]\n",
      " [31.27 27.42]\n",
      " [ 6.39  7.72]\n",
      " [47.05 41.68]\n",
      " [47.69 55.9 ]\n",
      " [50.87 50.7 ]\n",
      " [30.23 27.23]\n",
      " [43.65 41.05]\n",
      " [42.55 35.34]\n",
      " [29.82 31.35]\n",
      " [49.69 49.99]\n",
      " [56.18 68.3 ]\n",
      " [17.51 35.23]\n",
      " [37.51 25.61]\n",
      " [51.78 53.66]\n",
      " [28.58 27.74]\n",
      " [46.21 31.35]\n",
      " [14.45 12.25]\n",
      " [28.05 17.2 ]\n",
      " [20.4  13.29]\n",
      " [22.7  22.44]\n",
      " [60.49 47.22]\n",
      " [27.78 21.48]\n",
      " [12.89  4.83]\n",
      " [25.46 19.01]\n",
      " [20.97 21.06]\n",
      " [72.64 64.9 ]\n",
      " [21.11 19.99]\n",
      " [40.36 39.42]\n",
      " [13.66 13.71]\n",
      " [27.91 24.07]\n",
      " [43.81 37.92]\n",
      " [33.72 44.61]\n",
      " [54.42 44.52]\n",
      " [23.02 21.65]\n",
      " [35.27 47.71]\n",
      " [33.14 42.29]\n",
      " [44.47 34.9 ]\n",
      " [40.77 23.64]\n",
      " [27.81 24.  ]\n",
      " [44.31 38.  ]\n",
      " [17.83  9.74]\n",
      " [31.1  34.2 ]\n",
      " [16.72 18.42]\n",
      " [69.32 60.2 ]\n",
      " [29.95 23.22]\n",
      " [12.08 10.79]\n",
      " [28.06 21.02]\n",
      " [61.02 80.2 ]\n",
      " [46.35 45.37]\n",
      " [44.43 56.85]\n",
      " [67.25 64.3 ]\n",
      " [51.79 55.02]\n",
      " [38.73 33.49]\n",
      " [28.58 19.11]\n",
      " [15.99  8.54]\n",
      " [52.48 74.7 ]\n",
      " [21.74 23.4 ]\n",
      " [32.08 27.92]\n",
      " [10.17  9.31]\n",
      " [ 7.06  7.68]\n",
      " [34.57 50.77]\n",
      " [24.61 25.18]\n",
      " [31.99 24.58]\n",
      " [48.41 25.02]\n",
      " [36.18 37.91]\n",
      " [46.98 43.58]\n",
      " [28.07 38.2 ]\n",
      " [14.79 22.14]\n",
      " [45.11 50.46]\n",
      " [47.98 53.9 ]\n",
      " [38.41 39.29]\n",
      " [26.23 31.42]\n",
      " [55.28 52.04]\n",
      " [20.65 19.52]\n",
      " [46.47 35.3 ]\n",
      " [19.43 13.52]]\n"
     ]
    }
   ],
   "source": [
    "#Let's compare predicted and original\n",
    "np.set_printoptions(precision=2)\n",
    "print(np.concatenate((y_pred_output.reshape(len(y_pred_output),1), y_val.reshape(len(y_val),1)),1))"
   ]
  },
  {
   "cell_type": "code",
   "execution_count": 51,
   "metadata": {},
   "outputs": [],
   "source": [
    "#Defining MAPE(Mean Absolute Percentage Error) function\n",
    "def MAPE(y_val,y_pred_output):\n",
    "    mape = np.mean(np.abs((y_val - y_pred_output)/y_val))*100\n",
    "    return mape"
   ]
  },
  {
   "cell_type": "code",
   "execution_count": 52,
   "metadata": {},
   "outputs": [
    {
     "name": "stdout",
     "output_type": "stream",
     "text": [
      "MAPE : 75.71628445391563\n"
     ]
    }
   ],
   "source": [
    "print(\"MAPE :\",MAPE(y_val,y_pred_output))"
   ]
  },
  {
   "cell_type": "code",
   "execution_count": 53,
   "metadata": {},
   "outputs": [],
   "source": [
    "# So it is clear that the result need to be predict more accurately..some more operation needed to increase accuracy..\n",
    "#We will do it very soon.."
   ]
  }
 ],
 "metadata": {
  "kernelspec": {
   "display_name": "Python 3",
   "language": "python",
   "name": "python3"
  },
  "language_info": {
   "codemirror_mode": {
    "name": "ipython",
    "version": 3
   },
   "file_extension": ".py",
   "mimetype": "text/x-python",
   "name": "python",
   "nbconvert_exporter": "python",
   "pygments_lexer": "ipython3",
   "version": "3.7.3"
  }
 },
 "nbformat": 4,
 "nbformat_minor": 4
}
